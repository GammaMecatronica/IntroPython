{
 "cells": [
  {
   "cell_type": "markdown",
   "metadata": {},
   "source": [
    "# Python"
   ]
  },
  {
   "cell_type": "markdown",
   "metadata": {},
   "source": [
    "## ¿Qué vamos a aprender?\n",
    "\n",
    "- Administrar la entrada y la salida a la consola."
   ]
  },
  {
   "cell_type": "markdown",
   "metadata": {},
   "source": [
    "Los programas operan con datos, y esos datos provienen de alguna parte. En esta video, analizará más de cerca cómo puede recopilar la entrada tanto de la línea de comandos como de la entrada del usuario"
   ]
  },
  {
   "cell_type": "markdown",
   "metadata": {},
   "source": [
    "### Entrada del usuario"
   ]
  },
  {
   "cell_type": "code",
   "execution_count": 7,
   "metadata": {},
   "outputs": [
    {
     "name": "stdout",
     "output_type": "stream",
     "text": [
      "Programa que saluda al usuario\n",
      "Saludos: Roberto\n"
     ]
    }
   ],
   "source": [
    "print(\"Programa que saluda al usuario\")\n",
    "name = input(\"Introduzca su nombre \")\n",
    "print(\"Saludos: \" + name)"
   ]
  },
  {
   "cell_type": "markdown",
   "metadata": {},
   "source": [
    "### Trabajando con numeros\n",
    "\n",
    "Vamos a realizar un programa que le pida al usuario introducir dos numeros y el programa debe  sumar ambos "
   ]
  },
  {
   "cell_type": "code",
   "execution_count": 12,
   "metadata": {},
   "outputs": [
    {
     "name": "stdout",
     "output_type": "stream",
     "text": [
      "Suma de dos numeros\n",
      "10\n"
     ]
    }
   ],
   "source": [
    "print(\"Suma de dos numeros\")\n",
    "primerNumero = input(\"Ingresa el primer número: \")\n",
    "segundoNumero = input(\"Ingresa el segundo número: \")\n",
    "print(int(primerNumero)+int(segundoNumero))\n"
   ]
  }
 ],
 "metadata": {
  "kernelspec": {
   "display_name": "Python 3.9.13 64-bit (windows store)",
   "language": "python",
   "name": "python3"
  },
  "language_info": {
   "codemirror_mode": {
    "name": "ipython",
    "version": 3
   },
   "file_extension": ".py",
   "mimetype": "text/x-python",
   "name": "python",
   "nbconvert_exporter": "python",
   "pygments_lexer": "ipython3",
   "version": "3.9.13"
  },
  "orig_nbformat": 4,
  "vscode": {
   "interpreter": {
    "hash": "48052aeadcf5257b9707a4845fb69de6a314b1cdced36a5637ac3ec4d3024794"
   }
  }
 },
 "nbformat": 4,
 "nbformat_minor": 2
}
