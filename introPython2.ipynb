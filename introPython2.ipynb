{
 "cells": [
  {
   "cell_type": "markdown",
   "metadata": {},
   "source": [
    "# Python"
   ]
  },
  {
   "cell_type": "markdown",
   "metadata": {},
   "source": [
    "## ¿Qué vamos a aprender?\n",
    "\n",
    "- Operadores en Python\n",
    "    + Operadores aritméticos\n",
    "    + Operadores de asignación\n",
    "- Conversión de tipos de datos\n",
    "- Aprenderemos a manejar la entrada y la salida en la consola"
   ]
  },
  {
   "cell_type": "markdown",
   "metadata": {},
   "source": [
    "## ¿Qué es un operador?\n",
    "\n",
    "Los operadores son símbolos que le indican al intérprete que realice una operación específica, como aritmética, comparación, lógica, etc.\n",
    "Los operadores le permiten realizar cálculos sobre variables y sus valores.\n",
    "\n",
    "### Operadores aritméticos\n",
    "\n",
    "Un operador aritmético toma dos operandos como entrada, realiza un cálculo y devuelve el resultado.\n",
    "Con los operadores aritméticos, se realizan cálculos como suma, resta, división y multiplicación.\n",
    "\n",
    " Aquí hay unos ejemplos  de operadores aritméticos que puede usar:\n",
    "\n",
    "| Tipo | Descripción | Ejemplo \n",
    "-------- | -------- | --------\n",
    "| + | Operador de adición que suma dos valores  | ``` 1 + 1 ```.\n",
    "| - | Operador de resta, quita el valor del lado derecho del lado izquierdo | ``` 1 - 2 ```.\n",
    "| / | Operador de división, divide el lado izquierdo tantas veces como especifique el lado derecho | ``` 10 / 2 ```.\n",
    "| * | Operador de multiplicación | ``` 2 * 2 ```."
   ]
  },
  {
   "cell_type": "code",
   "execution_count": 1,
   "metadata": {},
   "outputs": [],
   "source": [
    "suma = 50+50\n",
    "resta = 10-20\n",
    "div = 6/5\n",
    "mul= 5*5\n"
   ]
  },
  {
   "cell_type": "markdown",
   "metadata": {},
   "source": [
    "### Operadores de asignación\n",
    "\n",
    "Los operadores de asignación se utilizan para asignar valores a una variable a lo largo del ciclo de vida de la variable.\n",
    "\n",
    "El ciclo de vida de una variable se refiere al intervalo de tiempo durante el cual la variable existe efectivamente durante la ejecución del programa. Para las variables declaradas a nivel de paquete, su ciclo de vida es consistente con el ciclo de ejecución de todo el programa.\n",
    "\n",
    "Estos son algunos operadores de asignación que es probable que encuentres:\n",
    "\n",
    "Operador | Ejemplo\n",
    "-------- | --------\n",
    "= | ```x = 2``` <br> x ahora contiene 2.\n",
    "+= | ```x += 2``` <br> x incrementado en 2. Si antes contenía 2, ahora tiene un valor de 4.\n",
    "-= | ```x -= 2``` <br> x decrementado por 2. Si antes contenía 2, ahora tiene un valor de 0.\n",
    "/= | ```x /= 2``` <br> x dividido por 2. Si antes contenía 2, ahora tiene un valor de 1.\n",
    "*= | ```x *= 2``` <br> x multiplicado por 2. Si antes contenía 2, ahora tiene un valor de 4."
   ]
  },
  {
   "cell_type": "code",
   "execution_count": 2,
   "metadata": {},
   "outputs": [],
   "source": [
    "x = 2\n",
    "y = 2"
   ]
  },
  {
   "cell_type": "markdown",
   "metadata": {},
   "source": [
    "#### +="
   ]
  },
  {
   "cell_type": "code",
   "execution_count": 4,
   "metadata": {},
   "outputs": [
    {
     "name": "stdout",
     "output_type": "stream",
     "text": [
      "6\n",
      "6\n"
     ]
    }
   ],
   "source": [
    "x += 2\n",
    "y = y + 2\n",
    "print(x)\n",
    "print(y)"
   ]
  },
  {
   "cell_type": "markdown",
   "metadata": {},
   "source": [
    "### -="
   ]
  },
  {
   "cell_type": "code",
   "execution_count": 6,
   "metadata": {},
   "outputs": [
    {
     "name": "stdout",
     "output_type": "stream",
     "text": [
      "2\n",
      "2\n"
     ]
    }
   ],
   "source": [
    "x -= 2 \n",
    "y = y - 2\n",
    "print(x)\n",
    "print(y)"
   ]
  },
  {
   "cell_type": "markdown",
   "metadata": {},
   "source": [
    "### /="
   ]
  },
  {
   "cell_type": "code",
   "execution_count": 7,
   "metadata": {},
   "outputs": [
    {
     "name": "stdout",
     "output_type": "stream",
     "text": [
      "1.0\n",
      "1.0\n"
     ]
    }
   ],
   "source": [
    "x /= 2\n",
    "y = y/2\n",
    "print(x)\n",
    "print(y)"
   ]
  },
  {
   "cell_type": "code",
   "execution_count": 8,
   "metadata": {},
   "outputs": [
    {
     "data": {
      "text/plain": [
       "float"
      ]
     },
     "execution_count": 8,
     "metadata": {},
     "output_type": "execute_result"
    }
   ],
   "source": [
    "type(x)"
   ]
  },
  {
   "cell_type": "markdown",
   "metadata": {},
   "source": [
    "### *="
   ]
  },
  {
   "cell_type": "code",
   "execution_count": 9,
   "metadata": {},
   "outputs": [
    {
     "name": "stdout",
     "output_type": "stream",
     "text": [
      "2.0\n",
      "2.0\n"
     ]
    }
   ],
   "source": [
    "x *= 2\n",
    "y = y*2\n",
    "print(x)\n",
    "print(y)"
   ]
  },
  {
   "cell_type": "markdown",
   "metadata": {},
   "source": [
    "## Conversión de tipos de datos\n",
    "\n",
    " Cuando realizamos tareas de programación, a veces, debemos aplicar conversiones de valores entre tipos para manipular los valores de forma diferente. Por ejemplo, es posible que debamos concatenar valores numéricos con cadenas o representar posiciones decimales en números que se iniciaron como valores enteros.\n",
    "\n",
    "### Convertir tipos de números\n",
    "\n",
    "En ocasiones se necesitará convertir un entero en un flotante o viceversa\n",
    "\n",
    "El método de Python ``float()`` nos permite convertir los enteros y las cadenas(si es que es posible) en flotantes. Para utilizar esta función, añada un entero dentro del paréntesis:\n",
    "``float(57)``"
   ]
  },
  {
   "cell_type": "markdown",
   "metadata": {},
   "source": [
    "De entero a float"
   ]
  },
  {
   "cell_type": "code",
   "execution_count": 11,
   "metadata": {},
   "outputs": [],
   "source": [
    "entero = 57"
   ]
  },
  {
   "cell_type": "code",
   "execution_count": 12,
   "metadata": {},
   "outputs": [],
   "source": [
    "flotante= float(entero)"
   ]
  },
  {
   "cell_type": "markdown",
   "metadata": {},
   "source": [
    "De cadena a float"
   ]
  },
  {
   "cell_type": "code",
   "execution_count": 13,
   "metadata": {},
   "outputs": [],
   "source": [
    "intString = '58'"
   ]
  },
  {
   "cell_type": "code",
   "execution_count": 15,
   "metadata": {},
   "outputs": [],
   "source": [
    "floatString = float(intString)"
   ]
  },
  {
   "cell_type": "markdown",
   "metadata": {},
   "source": [
    "De float o string a entero\n",
    "\n",
    "El método de Python ``int()`` nos permite convertir los flotantes y las cadenas (si es que es posible) en enteros (int). Para utilizar esta función, añada un flotante dentro del paréntesis:\n",
    "``int(57.0)``"
   ]
  },
  {
   "cell_type": "markdown",
   "metadata": {},
   "source": [
    "De float a int"
   ]
  },
  {
   "cell_type": "code",
   "execution_count": 16,
   "metadata": {},
   "outputs": [],
   "source": [
    "flotante = 56.0"
   ]
  },
  {
   "cell_type": "code",
   "execution_count": 17,
   "metadata": {},
   "outputs": [],
   "source": [
    "entero = int(flotante)"
   ]
  },
  {
   "cell_type": "code",
   "execution_count": 18,
   "metadata": {},
   "outputs": [],
   "source": [
    "entero = int()"
   ]
  },
  {
   "cell_type": "markdown",
   "metadata": {},
   "source": [
    "De string a int"
   ]
  },
  {
   "cell_type": "code",
   "execution_count": 19,
   "metadata": {},
   "outputs": [],
   "source": [
    "cadena = '12'\n"
   ]
  },
  {
   "cell_type": "code",
   "execution_count": 20,
   "metadata": {},
   "outputs": [],
   "source": [
    "enteroString = int(cadena)"
   ]
  },
  {
   "cell_type": "markdown",
   "metadata": {},
   "source": [
    "### Fechas\n",
    "Cuando estás creando programas, es probable que interactúes con las fechas. \n",
    "\n",
    "Una fecha se puede utilizar en varias aplicaciones, por ejemplo:\n",
    "\n",
    "+ **Archivo de copia de seguridad.** Usar una fecha como parte del nombre de un archivo de copia de seguridad es una buena manera de indicar cuándo se realizó una copia de seguridad y cuándo debe realizarse nuevamente.  \n",
    "+ **Condición.** Es posible que desee llevar una lógica específica cuando hay una fecha determinada.  \n",
    "+ **Métrica.** Las fechas se utilizan para comprobar el rendimiento del código para, por ejemplo, medir el tiempo que se tarda en ejecutar una función.  \n",
    "\n",
    "Para trabajar con una fecha, debe importar el módulo: ```date```\n",
    "\n",
    "```\n",
    "from datetime import date\n",
    "```\n",
    "\n",
    "A continuación, puede invocar las funciones con las que desea trabajar. Para obtener la fecha de hoy, puede llamar a la función: ```today()```\n",
    "\n",
    "```\n",
    "date.today()\n",
    "```\n",
    "\n",
    "Para mostrar la fecha en la consola, puede usar la función  ```print()```\n",
    "\n",
    "```\n",
    "print(date.today())\n",
    "```\n",
    "\n",
    "[LINK PARA SABER MAS DE DATETIME](https://docs.python.org/es/3/library/datetime.html#:~:text=El%20m%C3%B3dulo%20datetime%20proporciona%20clases,su%20posterior%20manipulaci%C3%B3n%20o%20formateo.)"
   ]
  },
  {
   "cell_type": "code",
   "execution_count": 21,
   "metadata": {},
   "outputs": [
    {
     "name": "stdout",
     "output_type": "stream",
     "text": [
      "2022-05-26\n"
     ]
    }
   ],
   "source": [
    "# 1. Importamos la biblioteca \n",
    "\n",
    "from datetime import date\n",
    "\n",
    "# Obtenemos la fecha de hoy\n",
    "date.today()\n",
    "\n",
    "# Mostramos la fecha en la consola\n",
    "print(date.today())"
   ]
  },
  {
   "cell_type": "code",
   "execution_count": 22,
   "metadata": {},
   "outputs": [
    {
     "data": {
      "text/plain": [
       "datetime.date"
      ]
     },
     "execution_count": 22,
     "metadata": {},
     "output_type": "execute_result"
    }
   ],
   "source": [
    "type(date.today())"
   ]
  },
  {
   "cell_type": "code",
   "execution_count": 23,
   "metadata": {},
   "outputs": [
    {
     "data": {
      "text/plain": [
       "datetime.date"
      ]
     },
     "execution_count": 23,
     "metadata": {},
     "output_type": "execute_result"
    }
   ],
   "source": [
    "fecha = date.today()\n",
    "type(fecha)"
   ]
  },
  {
   "cell_type": "markdown",
   "metadata": {},
   "source": [
    " ## Realizar conversiones con cadenas\n",
    "\n",
    " Las cadenas son una forma habitual de datos en los programas informáticos, y es posible que debamos convertir cadenas en números o números en cadenas con bastante frecuencia, sobre todo si tomamos datos generados por el usuario.\n",
    "\n",
    " Podemos convertir números en cadenas usando el método `` str() ``. Colocaremos un número o una variable en los paréntesis del método, y luego ese valor numérico se convertirá en un valor de cadena.  `` str(12) ``"
   ]
  },
  {
   "cell_type": "code",
   "execution_count": 24,
   "metadata": {},
   "outputs": [],
   "source": [
    "entero = 23423"
   ]
  },
  {
   "cell_type": "code",
   "execution_count": 25,
   "metadata": {},
   "outputs": [],
   "source": [
    "cadena = str(entero)"
   ]
  },
  {
   "cell_type": "code",
   "execution_count": 26,
   "metadata": {},
   "outputs": [
    {
     "ename": "TypeError",
     "evalue": "can only concatenate str (not \"datetime.date\") to str",
     "output_type": "error",
     "traceback": [
      "\u001b[1;31m---------------------------------------------------------------------------\u001b[0m",
      "\u001b[1;31mTypeError\u001b[0m                                 Traceback (most recent call last)",
      "\u001b[1;32mc:\\Users\\GAMMA\\Python\\introPython2.ipynb Cell 38'\u001b[0m in \u001b[0;36m<cell line: 1>\u001b[1;34m()\u001b[0m\n\u001b[1;32m----> <a href='vscode-notebook-cell:/c%3A/Users/GAMMA/Python/introPython2.ipynb#ch0000049?line=0'>1</a>\u001b[0m \u001b[39mprint\u001b[39m(\u001b[39m\"\u001b[39;49m\u001b[39mLa fecha de hoy es : \u001b[39;49m\u001b[39m\"\u001b[39;49m \u001b[39m+\u001b[39;49m fecha )\n",
      "\u001b[1;31mTypeError\u001b[0m: can only concatenate str (not \"datetime.date\") to str"
     ]
    }
   ],
   "source": [
    "## Esto nos marca un error\n",
    "print(\"La fecha de hoy es : \" + fecha )"
   ]
  },
  {
   "cell_type": "code",
   "execution_count": 27,
   "metadata": {},
   "outputs": [
    {
     "name": "stdout",
     "output_type": "stream",
     "text": [
      "La fecha de hoy es : 2022-05-26\n"
     ]
    }
   ],
   "source": [
    "## La forma correcta es:\n",
    "print(\"La fecha de hoy es : \" + str(fecha) )\n"
   ]
  }
 ],
 "metadata": {
  "interpreter": {
   "hash": "cbabb6a6661170c103e1200ae5be4d0ad3a85cf2c948ad02dfb30634516f0145"
  },
  "kernelspec": {
   "display_name": "Python 3.10.4 64-bit (windows store)",
   "language": "python",
   "name": "python3"
  },
  "language_info": {
   "codemirror_mode": {
    "name": "ipython",
    "version": 3
   },
   "file_extension": ".py",
   "mimetype": "text/x-python",
   "name": "python",
   "nbconvert_exporter": "python",
   "pygments_lexer": "ipython3",
   "version": "3.10.4"
  },
  "orig_nbformat": 4
 },
 "nbformat": 4,
 "nbformat_minor": 2
}
