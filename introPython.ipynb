{
 "cells": [
  {
   "cell_type": "markdown",
   "metadata": {},
   "source": [
    "# Python"
   ]
  },
  {
   "cell_type": "markdown",
   "metadata": {},
   "source": [
    "## ¿Qué vamos a aprender?\n",
    "\n",
    "- Construiremos tu primer programa en Python\n",
    "- Aprenderemos a manejar la entrada y la salida en la consola\n",
    "- Aprenderemos conceptos de programación de Python como variables y conversión entre tipos de datos."
   ]
  },
  {
   "cell_type": "markdown",
   "metadata": {},
   "source": [
    "### La función print()\n",
    "\n",
    "Una de las acciones básicas e imprescindibles que tiene que realizar un programa es la de mostrar información por pantalla o consola: texto, números, resultados, etc.\n",
    "\n",
    "Una consola es una aplicación de línea de comandos que te permite interactuar con el sistema operativo. En la consola, puedes ejecutar comandos y programas. También puedes ingresar información y mostrar información como texto en la pantalla.\n",
    "\n",
    "Para escribir información en la consola, puedes utilizar la función ``` print() ```. Debido a que es una función central, tendrás acceso a ella si Python está instalado. Para usarla dale un argumento: ``` print('Aqui va lo que quieras imprimir') ```\n",
    "\n"
   ]
  },
  {
   "cell_type": "code",
   "execution_count": null,
   "metadata": {},
   "outputs": [],
   "source": [
    "print(\"Hola Mundo!!!!\")"
   ]
  },
  {
   "cell_type": "markdown",
   "metadata": {},
   "source": [
    "Observa cómo el comando anterior utiliza paréntesis. Así es como invocas una función. Si usaras corchetes [] en lugar de paréntesis, no funcionaría: \n",
    "\n",
    "EJEMPLO ERRÓNEO: print[] \n"
   ]
  },
  {
   "cell_type": "markdown",
   "metadata": {},
   "source": [
    "### Variables\n",
    "\n",
    "En  programación, debemos comprender que estamos operando con datos. Entonces, como el programa está trabajando con datos, es posible que deba recordar un cierto valor a lo largo del programa. Para eso, se utilizan variables.\n",
    "\n",
    "### Definición \n",
    "\n",
    "Es un elemento de datos cuyo valor puede cambiar durante el curso de la ejecución de un programa. está formada por un espacio en el sistema de almacenaje (memoria principal de un ordenador) y un nombre simbólico (un identificador). El nombre de la variable es la forma usual de referirse al valor almacenado\n",
    "- Camel case"
   ]
  },
  {
   "cell_type": "code",
   "execution_count": null,
   "metadata": {},
   "outputs": [],
   "source": [
    "subsActuales = 100+100\n",
    "\n"
   ]
  },
  {
   "cell_type": "markdown",
   "metadata": {},
   "source": [
    "### Tipos de datos\n",
    "Una variable asume un tipo de dato. En el programa anterior, obtiene el tipo \"int\" . Pero hay muchos más tipos de datos. Aquí te muestro algunos\n",
    "\n",
    "Tipo | Descripción |Ejemplo \n",
    "-------- | -------- | -------- \n",
    "Numérico | Número sin decimales <br>  Numero con decimales <br> Numero imaginario | ```int ``` ej. ```entero = 3 ``` <br> ```float ``` ej. ```decimal = 3.1416 ``` <br> ```complex ``` ej. ```imaginario = 3 + 4j  ```              \n",
    "Texto | Cadena de caracteres | ``` str ``` ej.```cadena = \"Esta es una cadena\"```\n",
    "Booleano | Booleano | ``` bool ``` ej. ```continuar = True```\n",
    "\n",
    "Existe mas tipos de variables y pueden llegar a ser mas complejo , pero comencemos con estos.\n",
    "\n",
    "Aquí hay un fragmento de código que muestra algunos de los tipos anteriores:\n",
    "\n",
    "\n",
    "```subscriptores = 8 ``` --> int\n",
    "\n",
    "\n",
    "```duracion = 15.32 ``` --> float\n",
    "\n",
    "\n",
    "```suscrito = True``` --> bool\n",
    "\n",
    "\n",
    "``` mensaje = \"Gracias por compartir\" ``` -->string "
   ]
  },
  {
   "cell_type": "markdown",
   "metadata": {},
   "source": [
    "Tipo entero (int)"
   ]
  },
  {
   "cell_type": "code",
   "execution_count": 1,
   "metadata": {},
   "outputs": [],
   "source": [
    "entero = 3"
   ]
  },
  {
   "cell_type": "markdown",
   "metadata": {},
   "source": [
    "Tipo flotante o decimal (float)"
   ]
  },
  {
   "cell_type": "code",
   "execution_count": 4,
   "metadata": {},
   "outputs": [],
   "source": [
    "real = 3\n",
    "imaginaria = 4"
   ]
  },
  {
   "cell_type": "markdown",
   "metadata": {},
   "source": [
    "Tipo complejo (complex)"
   ]
  },
  {
   "cell_type": "code",
   "execution_count": 6,
   "metadata": {},
   "outputs": [],
   "source": [
    "complejo = complex(real,imaginaria)"
   ]
  },
  {
   "cell_type": "markdown",
   "metadata": {},
   "source": [
    "Tipo cadena o string (str)"
   ]
  },
  {
   "cell_type": "code",
   "execution_count": 7,
   "metadata": {},
   "outputs": [],
   "source": [
    "cadena = 'Esto es una cadena'"
   ]
  },
  {
   "cell_type": "code",
   "execution_count": 8,
   "metadata": {},
   "outputs": [],
   "source": [
    "cadena2=\"Esto es una cadena con comillas dobles\""
   ]
  },
  {
   "cell_type": "code",
   "execution_count": 9,
   "metadata": {},
   "outputs": [],
   "source": [
    "cadena3 = '''  Esto es una cadena con comillas triples (simples)  '''\n",
    "cadena4 = \"\"\"  Esto es una cadena con comillas triples (dobles)  \"\"\""
   ]
  },
  {
   "cell_type": "code",
   "execution_count": 10,
   "metadata": {},
   "outputs": [],
   "source": [
    "cadena5 = '''  Esto es una cadena con \n",
    "comillas triples \n",
    "(simples)  '''\n"
   ]
  },
  {
   "cell_type": "markdown",
   "metadata": {},
   "source": [
    "Tipo booleano (bool)"
   ]
  },
  {
   "cell_type": "code",
   "execution_count": 14,
   "metadata": {},
   "outputs": [],
   "source": [
    "subscrito = True\n",
    "noSubscrito = False\n",
    "\n"
   ]
  },
  {
   "cell_type": "markdown",
   "metadata": {},
   "source": [
    "¿Cómo saber el tipo de dato de mi variable?\n",
    "\n",
    "Con la función  ```type()```"
   ]
  },
  {
   "cell_type": "code",
   "execution_count": 17,
   "metadata": {},
   "outputs": [
    {
     "data": {
      "text/plain": [
       "complex"
      ]
     },
     "execution_count": 17,
     "metadata": {},
     "output_type": "execute_result"
    }
   ],
   "source": [
    "type(complejo)"
   ]
  }
 ],
 "metadata": {
  "interpreter": {
   "hash": "cbabb6a6661170c103e1200ae5be4d0ad3a85cf2c948ad02dfb30634516f0145"
  },
  "kernelspec": {
   "display_name": "Python 3.10.4 64-bit (windows store)",
   "language": "python",
   "name": "python3"
  },
  "language_info": {
   "codemirror_mode": {
    "name": "ipython",
    "version": 3
   },
   "file_extension": ".py",
   "mimetype": "text/x-python",
   "name": "python",
   "nbconvert_exporter": "python",
   "pygments_lexer": "ipython3",
   "version": "3.10.4"
  },
  "orig_nbformat": 4
 },
 "nbformat": 4,
 "nbformat_minor": 2
}
